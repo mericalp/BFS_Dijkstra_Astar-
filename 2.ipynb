import gym
from collections import deque

LEFT, DOWN, RIGHT, UP = 0, 1, 2, 3

# Haritayı oluştur
mymap = [
    "SFFFFF",
    "FFHFFF",
    "FFFHFH",
    "FHFFFF",
    "HFFFFF",
    "FFFFFG",
]

# FrozenLake environmentini oluştur
env = gym.make("FrozenLake-v1", render_mode="human", is_slippery=False, desc=mymap)
env.reset()

# Durum tablosunu oluştur
state_table = env.P

# Başlangıç ve hedef durumları belirle
start_state = env.reset()[0]
goal_state = env.observation_space.n - 1  # Son durumu belirle

def bfs_shortest_path(env, start_state, goal_state):
    visited = set()
    queue = deque([(start_state, [])])

    while queue:
        current_state, path = queue.popleft()

        if current_state == goal_state:
            return path

        if current_state not in visited:
            visited.add(current_state)
            possible_actions = range(env.action_space.n)

            for action in possible_actions:
                transitions = env.P[current_state][action]
                for probability, next_state, _, _ in transitions:
                    queue.append((next_state, path + [action]))

    return None

# BFS algoritması ile en kısa yolu bul
shortest_path = bfs_shortest_path(env, start_state, goal_state)
print("En kısa yol:", shortest_path)

# Bulunan en kısa yolu kullanarak oyunu oyna
for action in shortest_path:
    next_state, reward, terminated, truncated, info = env.step(action)
    env.render()

    if terminated:
        print("Oyun bitti!")
        break


import gym
import networkx as nx
from collections import deque

LEFT, DOWN, RIGHT, UP = 0, 1, 2, 3

# Haritayı oluştur
mymap = [
    "SFFFFF",
    "FFHFFF",
    "FFFHFH",
    "FHFFFF",
    "HFFFFF",
    "FFFFFG",
]

# FrozenLake environmentini oluştur
env = gym.make("FrozenLake-v1", render_mode="human", is_slippery=False, desc=mymap)
env.reset()

# Durum tablosunu oluştur
state_table = env.P

# Başlangıç ve hedef durumları belirle
start_state = env.reset()[0]
goal_state = env.observation_space.n - 1  # Son durumu belirle

# networkx ile yönlü graf oluştur
G = nx.DiGraph()
for state in range(env.observation_space.n):
    for action in range(env.action_space.n):
        transitions = env.P[state][action]
        for prob, next_state, _, _ in transitions:
            G.add_edge(state, next_state, weight=prob, action=action)

# Başlangıç ve hedef durumlarını belirle
start_node = start_state
goal_node = goal_state

# En kısa yolun bulunması
shortest_path = nx.shortest_path(G, source=start_node, target=goal_node, weight='weight')

# Bulunan en kısa yolu kullanarak oyunu oyna
for node in shortest_path:
    action = G[start_node][node]['action']
    next_state, reward, terminated, truncated, info = env.step(action)
    env.render()

    if terminated:
        print("Oyun bitti!")
        break
    start_node = node

print("En kısa yol:", shortest_path)


